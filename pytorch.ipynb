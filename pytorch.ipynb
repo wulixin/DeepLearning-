{
    "nbformat_minor": 1, 
    "cells": [
        {
            "source": "!pip install torchvision", 
            "cell_type": "code", 
            "metadata": {}, 
            "outputs": [
                {
                    "output_type": "stream", 
                    "name": "stdout", 
                    "text": "Waiting for a Spark session to start...\nSpark Initialization Done! ApplicationId = app-20190314080403-0000\nKERNEL_ID = 95fa2bdc-3c5d-4c92-a5b4-c1956ebd6d91\nCollecting torchvision\n\u001b[?25l  Downloading https://files.pythonhosted.org/packages/fb/01/03fd7e503c16b3dc262483e5555ad40974ab5da8b9879e164b56c1f4ef6f/torchvision-0.2.2.post3-py2.py3-none-any.whl (64kB)\n\u001b[K    100% |################################| 71kB 1.6MB/s eta 0:00:01\n\u001b[?25hCollecting numpy (from torchvision)\n\u001b[?25l  Downloading https://files.pythonhosted.org/packages/e3/18/4f013c3c3051f4e0ffbaa4bf247050d6d5e527fe9cb1907f5975b172f23f/numpy-1.16.2-cp35-cp35m-manylinux1_x86_64.whl (17.2MB)\n\u001b[K    100% |################################| 17.2MB 708kB/s eta 0:00:01\n\u001b[?25hCollecting six (from torchvision)\n  Downloading https://files.pythonhosted.org/packages/73/fb/00a976f728d0d1fecfe898238ce23f502a721c0ac0ecfedb80e0d88c64e9/six-1.12.0-py2.py3-none-any.whl\nCollecting torch (from torchvision)\n\u001b[?25l  Downloading https://files.pythonhosted.org/packages/59/d2/4e806f73b4b72daab9064c99394fc22ea6ef1fb052154546405057cd192d/torch-1.0.1.post2-cp35-cp35m-manylinux1_x86_64.whl (582.5MB)\n\u001b[K    100% |################################| 582.5MB 47kB/s  eta 0:00:01    19% |######                          | 112.8MB 49.3MB/s eta 0:00:10    95% |##############################  | 554.7MB 49.2MB/s eta 0:00:01\n\u001b[?25hCollecting pillow>=4.1.1 (from torchvision)\n\u001b[?25l  Downloading https://files.pythonhosted.org/packages/8b/e9/5c47710fe383f0582da668302a80a6355fe15c2ce2dde89b50fe34acefa6/Pillow-5.4.1-cp35-cp35m-manylinux1_x86_64.whl (2.0MB)\n\u001b[K    100% |################################| 2.0MB 215kB/s eta 0:00:01\n\u001b[31mtensorflow 1.3.0 requires tensorflow-tensorboard<0.2.0,>=0.1.0, which is not installed.\u001b[0m\n\u001b[31mpyspark 2.3.0 requires py4j==0.10.6, which is not installed.\u001b[0m\n\u001b[?25hInstalling collected packages: numpy, six, torch, pillow, torchvision\nSuccessfully installed numpy-1.16.2 pillow-5.4.1 six-1.12.0 torch-1.0.1.post2 torchvision-0.2.2.post3\n"
                }
            ], 
            "execution_count": 1
        }, 
        {
            "source": "import torch ", 
            "cell_type": "code", 
            "metadata": {}, 
            "outputs": [], 
            "execution_count": 2
        }, 
        {
            "source": "print(torch.__version__)", 
            "cell_type": "code", 
            "metadata": {}, 
            "outputs": [
                {
                    "output_type": "stream", 
                    "name": "stdout", 
                    "text": "1.0.1.post2\n"
                }
            ], 
            "execution_count": 3
        }, 
        {
            "source": "tensor_array=torch.Tensor([[1,2],[4,5]])\ntensor_array", 
            "cell_type": "code", 
            "metadata": {}, 
            "outputs": [
                {
                    "output_type": "execute_result", 
                    "data": {
                        "text/plain": "tensor([[1., 2.],\n        [4., 5.]])"
                    }, 
                    "execution_count": 4, 
                    "metadata": {}
                }
            ], 
            "execution_count": 4
        }, 
        {
            "source": "tensor_uninitialized=torch.Tensor(3,3)", 
            "cell_type": "code", 
            "metadata": {}, 
            "outputs": [], 
            "execution_count": 5
        }, 
        {
            "source": "torch.numel(tensor_uninitialized)", 
            "cell_type": "code", 
            "metadata": {}, 
            "outputs": [
                {
                    "output_type": "execute_result", 
                    "data": {
                        "text/plain": "9"
                    }, 
                    "execution_count": 6, 
                    "metadata": {}
                }
            ], 
            "execution_count": 6
        }, 
        {
            "source": "tensor_initialized=torch.rand(2,3)\ntensor_initialized", 
            "cell_type": "code", 
            "metadata": {}, 
            "outputs": [
                {
                    "output_type": "execute_result", 
                    "data": {
                        "text/plain": "tensor([[0.5763, 0.7253, 0.8157],\n        [0.4366, 0.5785, 0.9403]])"
                    }, 
                    "execution_count": 7, 
                    "metadata": {}
                }
            ], 
            "execution_count": 7
        }, 
        {
            "source": "tensor_int=torch.randn(5,3).type(torch.IntTensor)", 
            "cell_type": "code", 
            "metadata": {}, 
            "outputs": [], 
            "execution_count": 12
        }, 
        {
            "source": "torch.tensor([1.2,3]).dtype", 
            "cell_type": "code", 
            "metadata": {}, 
            "outputs": [
                {
                    "output_type": "execute_result", 
                    "data": {
                        "text/plain": "torch.float32"
                    }, 
                    "execution_count": 8, 
                    "metadata": {}
                }
            ], 
            "execution_count": 8
        }, 
        {
            "source": "", 
            "cell_type": "code", 
            "metadata": {}, 
            "outputs": [], 
            "execution_count": null
        }, 
        {
            "source": "tensor_long=torch.LongTensor([1.0,2.0,3.0])\ntensor_long", 
            "cell_type": "code", 
            "metadata": {}, 
            "outputs": [
                {
                    "output_type": "execute_result", 
                    "data": {
                        "text/plain": "tensor([1, 2, 3])"
                    }, 
                    "execution_count": 14, 
                    "metadata": {}
                }
            ], 
            "execution_count": 14
        }, 
        {
            "source": "tensor_byte=torch.ByteTensor([0,261,1,-5])\ntensor_byte", 
            "cell_type": "code", 
            "metadata": {}, 
            "outputs": [
                {
                    "output_type": "execute_result", 
                    "data": {
                        "text/plain": "tensor([  0,   5,   1, 251], dtype=torch.uint8)"
                    }, 
                    "execution_count": 16, 
                    "metadata": {}
                }
            ], 
            "execution_count": 16
        }, 
        {
            "source": "tensor_ones=torch.ones(10)\ntensor_ones", 
            "cell_type": "code", 
            "metadata": {}, 
            "outputs": [
                {
                    "output_type": "execute_result", 
                    "data": {
                        "text/plain": "tensor([1., 1., 1., 1., 1., 1., 1., 1., 1., 1.])"
                    }, 
                    "execution_count": 17, 
                    "metadata": {}
                }
            ], 
            "execution_count": 17
        }, 
        {
            "source": "tensor_zeroes=torch.zeros(10)\ntensor_zeroes", 
            "cell_type": "code", 
            "metadata": {}, 
            "outputs": [
                {
                    "output_type": "execute_result", 
                    "data": {
                        "text/plain": "tensor([0., 0., 0., 0., 0., 0., 0., 0., 0., 0.])"
                    }, 
                    "execution_count": 18, 
                    "metadata": {}
                }
            ], 
            "execution_count": 18
        }, 
        {
            "source": "tensor_eye=torch.eye(3)\ntensor_eye", 
            "cell_type": "code", 
            "metadata": {}, 
            "outputs": [
                {
                    "output_type": "execute_result", 
                    "data": {
                        "text/plain": "tensor([[1., 0., 0.],\n        [0., 1., 0.],\n        [0., 0., 1.]])"
                    }, 
                    "execution_count": 19, 
                    "metadata": {}
                }
            ], 
            "execution_count": 19
        }, 
        {
            "source": "non_zero=torch.nonzero(tensor_eye)\nnon_zero", 
            "cell_type": "code", 
            "metadata": {}, 
            "outputs": [
                {
                    "output_type": "execute_result", 
                    "data": {
                        "text/plain": "tensor([[0, 0],\n        [1, 1],\n        [2, 2]])"
                    }, 
                    "execution_count": 20, 
                    "metadata": {}
                }
            ], 
            "execution_count": 20
        }, 
        {
            "source": "tensor_ones_shape_eye=torch.ones_like(tensor_eye)\ntensor_ones_shape_eye", 
            "cell_type": "code", 
            "metadata": {}, 
            "outputs": [
                {
                    "output_type": "execute_result", 
                    "data": {
                        "text/plain": "tensor([[1., 1., 1.],\n        [1., 1., 1.],\n        [1., 1., 1.]])"
                    }, 
                    "execution_count": 21, 
                    "metadata": {}
                }
            ], 
            "execution_count": 21
        }, 
        {
            "source": "initial_tensor=torch.rand(3,3)\ninitial_tensor.fill_(3)", 
            "cell_type": "code", 
            "metadata": {}, 
            "outputs": [
                {
                    "output_type": "execute_result", 
                    "data": {
                        "text/plain": "tensor([[3., 3., 3.],\n        [3., 3., 3.],\n        [3., 3., 3.]])"
                    }, 
                    "execution_count": 23, 
                    "metadata": {}
                }
            ], 
            "execution_count": 23
        }, 
        {
            "source": "new_tensor=initial_tensor.add(4)\nnew_tensor", 
            "cell_type": "code", 
            "metadata": {}, 
            "outputs": [
                {
                    "output_type": "execute_result", 
                    "data": {
                        "text/plain": "tensor([[7., 7., 7.],\n        [7., 7., 7.],\n        [7., 7., 7.]])"
                    }, 
                    "execution_count": 24, 
                    "metadata": {}
                }
            ], 
            "execution_count": 24
        }, 
        {
            "source": "import numpy as np ", 
            "cell_type": "code", 
            "metadata": {}, 
            "outputs": [], 
            "execution_count": 25
        }, 
        {
            "source": "numpy_arr=np.array([1,2,3])\nnumpy_arr", 
            "cell_type": "code", 
            "metadata": {}, 
            "outputs": [
                {
                    "output_type": "execute_result", 
                    "data": {
                        "text/plain": "array([1, 2, 3])"
                    }, 
                    "execution_count": 27, 
                    "metadata": {}
                }
            ], 
            "execution_count": 27
        }, 
        {
            "source": "tensor=torch.from_numpy(numpy_arr)", 
            "cell_type": "code", 
            "metadata": {}, 
            "outputs": [], 
            "execution_count": 28
        }, 
        {
            "source": "tensor", 
            "cell_type": "code", 
            "metadata": {}, 
            "outputs": [
                {
                    "output_type": "execute_result", 
                    "data": {
                        "text/plain": "tensor([1, 2, 3])"
                    }, 
                    "execution_count": 29, 
                    "metadata": {}
                }
            ], 
            "execution_count": 29
        }, 
        {
            "source": "numpy_from_tensor=tensor.numpy()\nnumpy_from_tensor", 
            "cell_type": "code", 
            "metadata": {}, 
            "outputs": [
                {
                    "output_type": "execute_result", 
                    "data": {
                        "text/plain": "array([1, 2, 3])"
                    }, 
                    "execution_count": 30, 
                    "metadata": {}
                }
            ], 
            "execution_count": 30
        }, 
        {
            "source": "numpy_arr[1]=4\nnumpy_arr", 
            "cell_type": "code", 
            "metadata": {}, 
            "outputs": [
                {
                    "output_type": "execute_result", 
                    "data": {
                        "text/plain": "array([1, 4, 3])"
                    }, 
                    "execution_count": 31, 
                    "metadata": {}
                }
            ], 
            "execution_count": 31
        }, 
        {
            "source": "tensor", 
            "cell_type": "code", 
            "metadata": {}, 
            "outputs": [
                {
                    "output_type": "execute_result", 
                    "data": {
                        "text/plain": "tensor([1, 4, 3])"
                    }, 
                    "execution_count": 32, 
                    "metadata": {}
                }
            ], 
            "execution_count": 32
        }, 
        {
            "source": "tensors and numpy share same memory ", 
            "cell_type": "code", 
            "metadata": {}, 
            "outputs": [], 
            "execution_count": null
        }, 
        {
            "source": "numpy_from_tensor", 
            "cell_type": "code", 
            "metadata": {}, 
            "outputs": [
                {
                    "output_type": "execute_result", 
                    "data": {
                        "text/plain": "array([1, 4, 3])"
                    }, 
                    "execution_count": 33, 
                    "metadata": {}
                }
            ], 
            "execution_count": 33
        }, 
        {
            "source": "initial_tensor=torch.rand(2,3)\ninitial_tensor", 
            "cell_type": "code", 
            "metadata": {}, 
            "outputs": [
                {
                    "output_type": "execute_result", 
                    "data": {
                        "text/plain": "tensor([[0.7834, 0.1569, 0.2444],\n        [0.3895, 0.3012, 0.3274]])"
                    }, 
                    "execution_count": 34, 
                    "metadata": {}
                }
            ], 
            "execution_count": 34
        }, 
        {
            "source": "initial_tensor[0,2]", 
            "cell_type": "code", 
            "metadata": {}, 
            "outputs": [
                {
                    "output_type": "execute_result", 
                    "data": {
                        "text/plain": "tensor(0.2444)"
                    }, 
                    "execution_count": 36, 
                    "metadata": {}
                }
            ], 
            "execution_count": 36
        }, 
        {
            "source": "initial_tensor[:,1:]", 
            "cell_type": "code", 
            "metadata": {}, 
            "outputs": [
                {
                    "output_type": "execute_result", 
                    "data": {
                        "text/plain": "tensor([[0.1569, 0.2444],\n        [0.3012, 0.3274]])"
                    }, 
                    "execution_count": 37, 
                    "metadata": {}
                }
            ], 
            "execution_count": 37
        }, 
        {
            "source": "initial_tensor.size()", 
            "cell_type": "code", 
            "metadata": {}, 
            "outputs": [
                {
                    "output_type": "execute_result", 
                    "data": {
                        "text/plain": "torch.Size([2, 3])"
                    }, 
                    "execution_count": 38, 
                    "metadata": {}
                }
            ], 
            "execution_count": 38
        }, 
        {
            "source": "initial_tensor.shape", 
            "cell_type": "code", 
            "metadata": {}, 
            "outputs": [
                {
                    "output_type": "execute_result", 
                    "data": {
                        "text/plain": "torch.Size([2, 3])"
                    }, 
                    "execution_count": 40, 
                    "metadata": {}
                }
            ], 
            "execution_count": 40
        }, 
        {
            "source": "resized_tensor=initial_tensor.view(6)\nresized_tensor.shape", 
            "cell_type": "code", 
            "metadata": {}, 
            "outputs": [
                {
                    "output_type": "execute_result", 
                    "data": {
                        "text/plain": "torch.Size([6])"
                    }, 
                    "execution_count": 42, 
                    "metadata": {}
                }
            ], 
            "execution_count": 42
        }, 
        {
            "source": "resized_tensor", 
            "cell_type": "code", 
            "metadata": {}, 
            "outputs": [
                {
                    "output_type": "execute_result", 
                    "data": {
                        "text/plain": "tensor([0.7834, 0.1569, 0.2444, 0.3895, 0.3012, 0.3274])"
                    }, 
                    "execution_count": 43, 
                    "metadata": {}
                }
            ], 
            "execution_count": 43
        }, 
        {
            "source": "initial_tensor[0,2]=0.1111\nresized_tensor", 
            "cell_type": "code", 
            "metadata": {}, 
            "outputs": [
                {
                    "output_type": "execute_result", 
                    "data": {
                        "text/plain": "tensor([0.7834, 0.1569, 0.1111, 0.3895, 0.3012, 0.3274])"
                    }, 
                    "execution_count": 45, 
                    "metadata": {}
                }
            ], 
            "execution_count": 45
        }, 
        {
            "source": "resized_tensor=initial_tensor.view(3,2)\nresized_tensor.shape", 
            "cell_type": "code", 
            "metadata": {}, 
            "outputs": [
                {
                    "output_type": "execute_result", 
                    "data": {
                        "text/plain": "torch.Size([3, 2])"
                    }, 
                    "execution_count": 46, 
                    "metadata": {}
                }
            ], 
            "execution_count": 46
        }, 
        {
            "source": "resized_tensor", 
            "cell_type": "code", 
            "metadata": {}, 
            "outputs": [
                {
                    "output_type": "execute_result", 
                    "data": {
                        "text/plain": "tensor([[0.7834, 0.1569],\n        [0.1111, 0.3895],\n        [0.3012, 0.3274]])"
                    }, 
                    "execution_count": 47, 
                    "metadata": {}
                }
            ], 
            "execution_count": 47
        }, 
        {
            "source": "resized_matrix=initial_tensor.view(-1,2)\nresized_matrix.shape", 
            "cell_type": "code", 
            "metadata": {}, 
            "outputs": [
                {
                    "output_type": "execute_result", 
                    "data": {
                        "text/plain": "torch.Size([3, 2])"
                    }, 
                    "execution_count": 48, 
                    "metadata": {}
                }
            ], 
            "execution_count": 48
        }, 
        {
            "source": "initial_tensor", 
            "cell_type": "code", 
            "metadata": {}, 
            "outputs": [
                {
                    "output_type": "execute_result", 
                    "data": {
                        "text/plain": "tensor([[0.7834, 0.1569, 0.1111],\n        [0.3895, 0.3012, 0.3274]])"
                    }, 
                    "execution_count": 49, 
                    "metadata": {}
                }
            ], 
            "execution_count": 49
        }, 
        {
            "source": "sorted_tensor,sorted_indices=torch.sort(initial_tensor)", 
            "cell_type": "code", 
            "metadata": {}, 
            "outputs": [], 
            "execution_count": 50
        }, 
        {
            "source": "sorted_tensor", 
            "cell_type": "code", 
            "metadata": {}, 
            "outputs": [
                {
                    "output_type": "execute_result", 
                    "data": {
                        "text/plain": "tensor([[0.1111, 0.1569, 0.7834],\n        [0.3012, 0.3274, 0.3895]])"
                    }, 
                    "execution_count": 51, 
                    "metadata": {}
                }
            ], 
            "execution_count": 51
        }, 
        {
            "source": "sorted_indices", 
            "cell_type": "code", 
            "metadata": {}, 
            "outputs": [
                {
                    "output_type": "execute_result", 
                    "data": {
                        "text/plain": "tensor([[2, 1, 0],\n        [1, 2, 0]])"
                    }, 
                    "execution_count": 52, 
                    "metadata": {}
                }
            ], 
            "execution_count": 52
        }, 
        {
            "source": "sorted_tensor,sorted_indices=torch.sort(initial_tensor,dim=0)", 
            "cell_type": "code", 
            "metadata": {}, 
            "outputs": [], 
            "execution_count": 53
        }, 
        {
            "source": "sorted_tensor", 
            "cell_type": "code", 
            "metadata": {}, 
            "outputs": [
                {
                    "output_type": "execute_result", 
                    "data": {
                        "text/plain": "tensor([[0.3895, 0.1569, 0.1111],\n        [0.7834, 0.3012, 0.3274]])"
                    }, 
                    "execution_count": 54, 
                    "metadata": {}
                }
            ], 
            "execution_count": 54
        }, 
        {
            "source": "sorted_indices", 
            "cell_type": "code", 
            "metadata": {}, 
            "outputs": [
                {
                    "output_type": "execute_result", 
                    "data": {
                        "text/plain": "tensor([[1, 0, 0],\n        [0, 1, 1]])"
                    }, 
                    "execution_count": 55, 
                    "metadata": {}
                }
            ], 
            "execution_count": 55
        }, 
        {
            "source": "Similar to TF graphs but with one important difference:pytorch computation graphs are dynamic ", 
            "cell_type": "markdown", 
            "metadata": {}
        }, 
        {
            "source": "from torch.autograd import Variable ", 
            "cell_type": "code", 
            "metadata": {}, 
            "outputs": [], 
            "execution_count": 57
        }, 
        {
            "source": "x=Variable(torch.randn(1,10))\nh=Variable(torch.randn(1,20))\nW_h=Variable(torch.randn(20,20))\nW_x=Variable(torch.randn(20,10))", 
            "cell_type": "code", 
            "metadata": {}, 
            "outputs": [], 
            "execution_count": 59
        }, 
        {
            "source": "h_prod=torch.mm(W_h,h.t())\nx_prod=torch.mm(W_x,x.t())\nnext_h=(h_prod+x_prod).tanh()", 
            "cell_type": "code", 
            "metadata": {}, 
            "outputs": [], 
            "execution_count": 61
        }, 
        {
            "source": "loss=next_h.sum()", 
            "cell_type": "code", 
            "metadata": {}, 
            "outputs": [], 
            "execution_count": 65
        }, 
        {
            "source": "loss.backward()", 
            "cell_type": "code", 
            "metadata": {}, 
            "outputs": [
                {
                    "output_type": "error", 
                    "evalue": "element 0 of tensors does not require grad and does not have a grad_fn", 
                    "traceback": [
                        "\u001b[0;31m---------------------------------------------------------------------------\u001b[0m", 
                        "\u001b[0;31mRuntimeError\u001b[0m                              Traceback (most recent call last)", 
                        "\u001b[0;32m<ipython-input-66-684559e268b2>\u001b[0m in \u001b[0;36m<module>\u001b[0;34m()\u001b[0m\n\u001b[0;32m----> 1\u001b[0;31m \u001b[0mloss\u001b[0m\u001b[0;34m.\u001b[0m\u001b[0mbackward\u001b[0m\u001b[0;34m(\u001b[0m\u001b[0;34m)\u001b[0m\u001b[0;34m\u001b[0m\u001b[0m\n\u001b[0m", 
                        "\u001b[0;32m~/user-libs/python3/torch/tensor.py\u001b[0m in \u001b[0;36mbackward\u001b[0;34m(self, gradient, retain_graph, create_graph)\u001b[0m\n\u001b[1;32m     91\u001b[0m                 \u001b[0mproducts\u001b[0m\u001b[0;34m.\u001b[0m \u001b[0mDefaults\u001b[0m \u001b[0mto\u001b[0m\u001b[0;31m \u001b[0m\u001b[0;31m`\u001b[0m\u001b[0;31m`\u001b[0m\u001b[0;32mFalse\u001b[0m\u001b[0;31m`\u001b[0m\u001b[0;31m`\u001b[0m\u001b[0;34m.\u001b[0m\u001b[0;34m\u001b[0m\u001b[0m\n\u001b[1;32m     92\u001b[0m         \"\"\"\n\u001b[0;32m---> 93\u001b[0;31m         \u001b[0mtorch\u001b[0m\u001b[0;34m.\u001b[0m\u001b[0mautograd\u001b[0m\u001b[0;34m.\u001b[0m\u001b[0mbackward\u001b[0m\u001b[0;34m(\u001b[0m\u001b[0mself\u001b[0m\u001b[0;34m,\u001b[0m \u001b[0mgradient\u001b[0m\u001b[0;34m,\u001b[0m \u001b[0mretain_graph\u001b[0m\u001b[0;34m,\u001b[0m \u001b[0mcreate_graph\u001b[0m\u001b[0;34m)\u001b[0m\u001b[0;34m\u001b[0m\u001b[0m\n\u001b[0m\u001b[1;32m     94\u001b[0m \u001b[0;34m\u001b[0m\u001b[0m\n\u001b[1;32m     95\u001b[0m     \u001b[0;32mdef\u001b[0m \u001b[0mregister_hook\u001b[0m\u001b[0;34m(\u001b[0m\u001b[0mself\u001b[0m\u001b[0;34m,\u001b[0m \u001b[0mhook\u001b[0m\u001b[0;34m)\u001b[0m\u001b[0;34m:\u001b[0m\u001b[0;34m\u001b[0m\u001b[0m\n", 
                        "\u001b[0;32m~/user-libs/python3/torch/autograd/__init__.py\u001b[0m in \u001b[0;36mbackward\u001b[0;34m(tensors, grad_tensors, retain_graph, create_graph, grad_variables)\u001b[0m\n\u001b[1;32m     88\u001b[0m     Variable._execution_engine.run_backward(\n\u001b[1;32m     89\u001b[0m         \u001b[0mtensors\u001b[0m\u001b[0;34m,\u001b[0m \u001b[0mgrad_tensors\u001b[0m\u001b[0;34m,\u001b[0m \u001b[0mretain_graph\u001b[0m\u001b[0;34m,\u001b[0m \u001b[0mcreate_graph\u001b[0m\u001b[0;34m,\u001b[0m\u001b[0;34m\u001b[0m\u001b[0m\n\u001b[0;32m---> 90\u001b[0;31m         allow_unreachable=True)  # allow_unreachable flag\n\u001b[0m\u001b[1;32m     91\u001b[0m \u001b[0;34m\u001b[0m\u001b[0m\n\u001b[1;32m     92\u001b[0m \u001b[0;34m\u001b[0m\u001b[0m\n", 
                        "\u001b[0;31mRuntimeError\u001b[0m: element 0 of tensors does not require grad and does not have a grad_fn"
                    ], 
                    "ename": "RuntimeError"
                }
            ], 
            "execution_count": 66
        }, 
        {
            "source": "Building a Simple NN  Model ", 
            "cell_type": "markdown", 
            "metadata": {}
        }, 
        {
            "source": "loss=0=Ypredice-Yactual", 
            "cell_type": "markdown", 
            "metadata": {}
        }, 
        {
            "source": "tensor=torch.Tensor([[3,4],[7,5]])", 
            "cell_type": "code", 
            "metadata": {}, 
            "outputs": [], 
            "execution_count": 67
        }, 
        {
            "source": "tensor", 
            "cell_type": "code", 
            "metadata": {}, 
            "outputs": [
                {
                    "output_type": "execute_result", 
                    "data": {
                        "text/plain": "tensor([[3., 4.],\n        [7., 5.]])"
                    }, 
                    "execution_count": 68, 
                    "metadata": {}
                }
            ], 
            "execution_count": 68
        }, 
        {
            "source": "tensor.requires_grad", 
            "cell_type": "code", 
            "metadata": {}, 
            "outputs": [
                {
                    "output_type": "execute_result", 
                    "data": {
                        "text/plain": "False"
                    }, 
                    "execution_count": 69, 
                    "metadata": {}
                }
            ], 
            "execution_count": 69
        }, 
        {
            "source": "tensor.requires_grad_()", 
            "cell_type": "code", 
            "metadata": {}, 
            "outputs": [
                {
                    "output_type": "execute_result", 
                    "data": {
                        "text/plain": "tensor([[3., 4.],\n        [7., 5.]], requires_grad=True)"
                    }, 
                    "execution_count": 70, 
                    "metadata": {}
                }
            ], 
            "execution_count": 70
        }, 
        {
            "source": "tensor.requires_grad", 
            "cell_type": "code", 
            "metadata": {}, 
            "outputs": [
                {
                    "output_type": "execute_result", 
                    "data": {
                        "text/plain": "True"
                    }, 
                    "execution_count": 71, 
                    "metadata": {}
                }
            ], 
            "execution_count": 71
        }, 
        {
            "source": "print(tensor.grad_fn)", 
            "cell_type": "code", 
            "metadata": {}, 
            "outputs": [
                {
                    "output_type": "stream", 
                    "name": "stdout", 
                    "text": "None\n"
                }
            ], 
            "execution_count": 72
        }, 
        {
            "source": "out=tensor*tensor", 
            "cell_type": "code", 
            "metadata": {}, 
            "outputs": [], 
            "execution_count": 73
        }, 
        {
            "source": "out.requires_grad", 
            "cell_type": "code", 
            "metadata": {}, 
            "outputs": [
                {
                    "output_type": "execute_result", 
                    "data": {
                        "text/plain": "True"
                    }, 
                    "execution_count": 74, 
                    "metadata": {}
                }
            ], 
            "execution_count": 74
        }, 
        {
            "source": "print(out.grad)", 
            "cell_type": "code", 
            "metadata": {}, 
            "outputs": [
                {
                    "output_type": "stream", 
                    "name": "stdout", 
                    "text": "None\n"
                }
            ], 
            "execution_count": 75
        }, 
        {
            "source": "print(out.grad_fn)", 
            "cell_type": "code", 
            "metadata": {}, 
            "outputs": [
                {
                    "output_type": "stream", 
                    "name": "stdout", 
                    "text": "<ThMulBackward object at 0x7f6068b29390>\n"
                }
            ], 
            "execution_count": 76
        }, 
        {
            "source": "print(tensor.grad_fn)", 
            "cell_type": "code", 
            "metadata": {}, 
            "outputs": [
                {
                    "output_type": "stream", 
                    "name": "stdout", 
                    "text": "None\n"
                }
            ], 
            "execution_count": 77
        }, 
        {
            "source": "out=(tensor*tensor.mean())\nprint(out.grad_fn)\nout.backward", 
            "cell_type": "code", 
            "metadata": {}, 
            "outputs": [
                {
                    "output_type": "stream", 
                    "name": "stdout", 
                    "text": "<ThMulBackward object at 0x7f6068b29860>\n"
                }
            ], 
            "execution_count": 78
        }, 
        {
            "source": "print(tensor.grad)#\u4e0a\u9762\u90a3\u4e2a\u4e0d\u8d77\u4f5c\u7528", 
            "cell_type": "code", 
            "metadata": {}, 
            "outputs": [
                {
                    "output_type": "stream", 
                    "name": "stdout", 
                    "text": "None\n"
                }
            ], 
            "execution_count": 80
        }, 
        {
            "source": "import numpy as np \nimport matplotlib.pyplot as plt", 
            "cell_type": "code", 
            "metadata": {}, 
            "outputs": [], 
            "execution_count": 84
        }, 
        {
            "source": "x_train =torch.from_numpy(x_train)\ny_train=torch.from_numpy(y_train)\n\nprint(\"require grad for x_train\",x_train.requires_grad)\nprint(\"require grad for x_train\",y_train.requires_grad)", 
            "cell_type": "code", 
            "metadata": {}, 
            "outputs": [], 
            "execution_count": null
        }, 
        {
            "source": "input_size=1\nhidden_size=100\noutput_size=1\nlearning_rate=1e-6", 
            "cell_type": "code", 
            "metadata": {}, 
            "outputs": [], 
            "execution_count": 89
        }, 
        {
            "source": "w1=torch.rand(input_size,\n              hidden_size,\n              requires_grad=True)", 
            "cell_type": "code", 
            "metadata": {}, 
            "outputs": [], 
            "execution_count": 90
        }, 
        {
            "source": "w1.shape", 
            "cell_type": "code", 
            "metadata": {}, 
            "outputs": [
                {
                    "output_type": "execute_result", 
                    "data": {
                        "text/plain": "torch.Size([1, 100])"
                    }, 
                    "execution_count": 91, 
                    "metadata": {}
                }
            ], 
            "execution_count": 91
        }, 
        {
            "source": "w2=torch.rand(input_size,\n              hidden_size,\n              requires_grad=True)", 
            "cell_type": "code", 
            "metadata": {}, 
            "outputs": [], 
            "execution_count": 92
        }, 
        {
            "source": "for iter in range(1,301):\n    y_pred=x_train.mm(w1).clamp(min=0).mm(w2)\n    loss=(y_pred-y_train).pow(2).sum()\n    \n    if iter % 50==0:\n        print(iter,loss.item())\n        \n    loss.backward()\n    \n    with torch.no_grad():\n        w1-=learning_rate*w1.grad\n        w2-=learning_rate*w2.grad\n        w1.grad.zero_()\n        w2.grad.zero_()\n    \n    ", 
            "cell_type": "code", 
            "metadata": {}, 
            "outputs": [], 
            "execution_count": null
        }, 
        {
            "source": "print(\"w1\":w1)\nprint(\"w2\":w2)", 
            "cell_type": "code", 
            "metadata": {}, 
            "outputs": [], 
            "execution_count": null
        }, 
        {
            "source": "x_train_tensor=torch.from_numpy(x_train)\nx_train_tensor", 
            "cell_type": "code", 
            "metadata": {}, 
            "outputs": [], 
            "execution_count": null
        }, 
        {
            "source": "predicted=predicted_in_tensor.detach().numpy()\npredicted", 
            "cell_type": "code", 
            "metadata": {}, 
            "outputs": [], 
            "execution_count": null
        }, 
        {
            "source": "plt.plot(x_train,y_train,\"ro\",label=\"Original data\")\n\nplt.plot(x_train,predicted,label='Fitted line')\n\nplt.legend()\n\nplt.show()\n", 
            "cell_type": "code", 
            "metadata": {}, 
            "outputs": [], 
            "execution_count": null
        }, 
        {
            "source": "\nimport types\nimport pandas as pd\nfrom botocore.client import Config\nimport ibm_boto3\ndef __iter__(self): return 0\n\n# @hidden_cell\n# The following code accesses a file in your IBM Cloud Object Storage. It includes your credentials.\n# You might want to remove those credentials before you share your notebook.\nclient_d068585ca6794db3b83ed62bd18a12d1 = ibm_boto3.client(service_name='s3',\n    ibm_api_key_id='Ww3cQB_4dE6bYMEtxvJiEd1mSujEGfdX5z3EEfgQZIjC',\n    ibm_auth_endpoint=\"https://iam.bluemix.net/oidc/token\",\n    config=Config(signature_version='oauth'),\n    endpoint_url='https://s3-api.us-geo.objectstorage.service.networklayer.com')\n\nbody = client_d068585ca6794db3b83ed62bd18a12d1.get_object(Bucket='pyspark2-donotdelete-pr-u6kv1cpq61thty',Key='names.csv')['Body']\n# add missing __iter__ method, so pandas accepts body as file-like object\nif not hasattr(body, \"__iter__\"): body.__iter__ = types.MethodType( __iter__, body )\n\nnames_data  = pd.read_csv(body)\nnames_data .head()\n\n", 
            "cell_type": "code", 
            "metadata": {}, 
            "outputs": [
                {
                    "output_type": "execute_result", 
                    "data": {
                        "text/html": "<div>\n<style scoped>\n    .dataframe tbody tr th:only-of-type {\n        vertical-align: middle;\n    }\n\n    .dataframe tbody tr th {\n        vertical-align: top;\n    }\n\n    .dataframe thead th {\n        text-align: right;\n    }\n</style>\n<table border=\"1\" class=\"dataframe\">\n  <thead>\n    <tr style=\"text-align: right;\">\n      <th></th>\n      <th>Name</th>\n      <th>Gender</th>\n    </tr>\n  </thead>\n  <tbody>\n    <tr>\n      <th>0</th>\n      <td>Aamir</td>\n      <td>Male</td>\n    </tr>\n    <tr>\n      <th>1</th>\n      <td>Aaron</td>\n      <td>Female</td>\n    </tr>\n    <tr>\n      <th>2</th>\n      <td>Aaron</td>\n      <td>Male</td>\n    </tr>\n    <tr>\n      <th>3</th>\n      <td>Abagael</td>\n      <td>Female</td>\n    </tr>\n    <tr>\n      <th>4</th>\n      <td>Abagail</td>\n      <td>Female</td>\n    </tr>\n  </tbody>\n</table>\n</div>", 
                        "text/plain": "      Name  Gender\n0    Aamir    Male\n1    Aaron  Female\n2    Aaron    Male\n3  Abagael  Female\n4  Abagail  Female"
                    }, 
                    "execution_count": 9, 
                    "metadata": {}
                }
            ], 
            "execution_count": 9
        }, 
        {
            "source": "len(names_data)", 
            "cell_type": "code", 
            "metadata": {}, 
            "outputs": [
                {
                    "output_type": "execute_result", 
                    "data": {
                        "text/plain": "10132"
                    }, 
                    "execution_count": 10, 
                    "metadata": {}
                }
            ], 
            "execution_count": 10
        }, 
        {
            "source": "len(names_data['Name'].unique())", 
            "cell_type": "code", 
            "metadata": {}, 
            "outputs": [
                {
                    "output_type": "execute_result", 
                    "data": {
                        "text/plain": "9543"
                    }, 
                    "execution_count": 12, 
                    "metadata": {}
                }
            ], 
            "execution_count": 12
        }, 
        {
            "source": "import random \nnames_data = names_data.drop_duplicates(subset=['Name'], \n                                        keep=random.choice(['first', 'last']))", 
            "cell_type": "code", 
            "metadata": {}, 
            "outputs": [], 
            "execution_count": 14
        }, 
        {
            "source": "names_data.head()", 
            "cell_type": "code", 
            "metadata": {}, 
            "outputs": [
                {
                    "output_type": "execute_result", 
                    "data": {
                        "text/html": "<div>\n<style scoped>\n    .dataframe tbody tr th:only-of-type {\n        vertical-align: middle;\n    }\n\n    .dataframe tbody tr th {\n        vertical-align: top;\n    }\n\n    .dataframe thead th {\n        text-align: right;\n    }\n</style>\n<table border=\"1\" class=\"dataframe\">\n  <thead>\n    <tr style=\"text-align: right;\">\n      <th></th>\n      <th>Name</th>\n      <th>Gender</th>\n    </tr>\n  </thead>\n  <tbody>\n    <tr>\n      <th>0</th>\n      <td>Aamir</td>\n      <td>Male</td>\n    </tr>\n    <tr>\n      <th>2</th>\n      <td>Aaron</td>\n      <td>Male</td>\n    </tr>\n    <tr>\n      <th>3</th>\n      <td>Abagael</td>\n      <td>Female</td>\n    </tr>\n    <tr>\n      <th>4</th>\n      <td>Abagail</td>\n      <td>Female</td>\n    </tr>\n    <tr>\n      <th>5</th>\n      <td>Abbe</td>\n      <td>Female</td>\n    </tr>\n  </tbody>\n</table>\n</div>", 
                        "text/plain": "      Name  Gender\n0    Aamir    Male\n2    Aaron    Male\n3  Abagael  Female\n4  Abagail  Female\n5     Abbe  Female"
                    }, 
                    "execution_count": 15, 
                    "metadata": {}
                }
            ], 
            "execution_count": 15
        }, 
        {
            "source": "from sklearn import preprocessing \nle=preprocessing.LabelEncoder()\nnames_data['Gender']=le.fit_transform(names_data['Gender'])\nnames_data.head()", 
            "cell_type": "code", 
            "metadata": {}, 
            "outputs": [
                {
                    "output_type": "stream", 
                    "name": "stderr", 
                    "text": "/opt/ibm/conda/miniconda3/lib/python3.5/site-packages/ipykernel/__main__.py:3: SettingWithCopyWarning: \nA value is trying to be set on a copy of a slice from a DataFrame.\nTry using .loc[row_indexer,col_indexer] = value instead\n\nSee the caveats in the documentation: http://pandas.pydata.org/pandas-docs/stable/indexing.html#indexing-view-versus-copy\n  app.launch_new_instance()\n"
                }, 
                {
                    "output_type": "execute_result", 
                    "data": {
                        "text/html": "<div>\n<style scoped>\n    .dataframe tbody tr th:only-of-type {\n        vertical-align: middle;\n    }\n\n    .dataframe tbody tr th {\n        vertical-align: top;\n    }\n\n    .dataframe thead th {\n        text-align: right;\n    }\n</style>\n<table border=\"1\" class=\"dataframe\">\n  <thead>\n    <tr style=\"text-align: right;\">\n      <th></th>\n      <th>Name</th>\n      <th>Gender</th>\n    </tr>\n  </thead>\n  <tbody>\n    <tr>\n      <th>0</th>\n      <td>Aamir</td>\n      <td>1</td>\n    </tr>\n    <tr>\n      <th>2</th>\n      <td>Aaron</td>\n      <td>1</td>\n    </tr>\n    <tr>\n      <th>3</th>\n      <td>Abagael</td>\n      <td>0</td>\n    </tr>\n    <tr>\n      <th>4</th>\n      <td>Abagail</td>\n      <td>0</td>\n    </tr>\n    <tr>\n      <th>5</th>\n      <td>Abbe</td>\n      <td>0</td>\n    </tr>\n  </tbody>\n</table>\n</div>", 
                        "text/plain": "      Name  Gender\n0    Aamir       1\n2    Aaron       1\n3  Abagael       0\n4  Abagail       0\n5     Abbe       0"
                    }, 
                    "execution_count": 16, 
                    "metadata": {}
                }
            ], 
            "execution_count": 16
        }, 
        {
            "source": "#le\u3002fit_transform \u8bb0\u4f4f\u5982\u4f55\u4f7f\u7528\u8fd9\u4e2a", 
            "cell_type": "code", 
            "metadata": {}, 
            "outputs": [], 
            "execution_count": null
        }, 
        {
            "source": "genders=['Female','Male']", 
            "cell_type": "code", 
            "metadata": {}, 
            "outputs": [], 
            "execution_count": 17
        }, 
        {
            "source": "import string \nall_letters=string.ascii_letters+\".,;'\"\nn_letters=len(all_letters)\nall_letters", 
            "cell_type": "code", 
            "metadata": {}, 
            "outputs": [
                {
                    "output_type": "execute_result", 
                    "data": {
                        "text/plain": "\"abcdefghijklmnopqrstuvwxyzABCDEFGHIJKLMNOPQRSTUVWXYZ.,;'\""
                    }, 
                    "execution_count": 18, 
                    "metadata": {}
                }
            ], 
            "execution_count": 18
        }, 
        {
            "source": "# function to convert name in tensors \n#this effectively performs one-hot-encoding \nimport torch \ndef name_to_tensor(name):\n    name_in_tensor=torch.zeros(len(name),1,n_letters)\n    for i,letter in enumerate(name):\n        name_in_tensor[i][0][all_letters.find(letter)]=1\n    return name_in_tensor ", 
            "cell_type": "code", 
            "metadata": {}, 
            "outputs": [], 
            "execution_count": 19
        }, 
        {
            "source": "name_to_tensor('jone')", 
            "cell_type": "code", 
            "metadata": {}, 
            "outputs": [
                {
                    "output_type": "execute_result", 
                    "data": {
                        "text/plain": "tensor([[[0., 0., 0., 0., 0., 0., 0., 0., 0., 1., 0., 0., 0., 0., 0., 0., 0.,\n          0., 0., 0., 0., 0., 0., 0., 0., 0., 0., 0., 0., 0., 0., 0., 0., 0.,\n          0., 0., 0., 0., 0., 0., 0., 0., 0., 0., 0., 0., 0., 0., 0., 0., 0.,\n          0., 0., 0., 0., 0.]],\n\n        [[0., 0., 0., 0., 0., 0., 0., 0., 0., 0., 0., 0., 0., 0., 1., 0., 0.,\n          0., 0., 0., 0., 0., 0., 0., 0., 0., 0., 0., 0., 0., 0., 0., 0., 0.,\n          0., 0., 0., 0., 0., 0., 0., 0., 0., 0., 0., 0., 0., 0., 0., 0., 0.,\n          0., 0., 0., 0., 0.]],\n\n        [[0., 0., 0., 0., 0., 0., 0., 0., 0., 0., 0., 0., 0., 1., 0., 0., 0.,\n          0., 0., 0., 0., 0., 0., 0., 0., 0., 0., 0., 0., 0., 0., 0., 0., 0.,\n          0., 0., 0., 0., 0., 0., 0., 0., 0., 0., 0., 0., 0., 0., 0., 0., 0.,\n          0., 0., 0., 0., 0.]],\n\n        [[0., 0., 0., 0., 1., 0., 0., 0., 0., 0., 0., 0., 0., 0., 0., 0., 0.,\n          0., 0., 0., 0., 0., 0., 0., 0., 0., 0., 0., 0., 0., 0., 0., 0., 0.,\n          0., 0., 0., 0., 0., 0., 0., 0., 0., 0., 0., 0., 0., 0., 0., 0., 0.,\n          0., 0., 0., 0., 0.]]])"
                    }, 
                    "execution_count": 20, 
                    "metadata": {}
                }
            ], 
            "execution_count": 20
        }, 
        {
            "source": "#define the RNN \nimport torch.nn as nn\n\nclass RNN(nn.Module):\n    def __init__(self, input_size, hidden_size, output_size):\n        super(RNN, self).__init__()\n\n        self.hidden_size = hidden_size\n\n        self.i2h = nn.Linear(input_size + hidden_size, hidden_size)\n        self.i2o = nn.Linear(input_size + hidden_size, output_size)\n        self.softmax = nn.LogSoftmax(dim=1)\n\n    def forward(self, input, hidden):\n        combined = torch.cat((input, hidden), 1)\n        hidden = self.i2h(combined)    \n        output = self.i2o(combined)    \n        output = self.softmax(output)\n        return output, hidden\n\n    def initHidden(self):\n        return torch.zeros(1, self.hidden_size)", 
            "cell_type": "code", 
            "metadata": {}, 
            "outputs": [], 
            "execution_count": 21
        }, 
        {
            "source": "#create an RNN \nn_hidden = 128\nn_genders= len(genders)\n\nrnn = RNN(n_letters, n_hidden, output_size = n_genders)", 
            "cell_type": "code", 
            "metadata": {}, 
            "outputs": [], 
            "execution_count": 22
        }, 
        {
            "source": "#define the parameters for training the model \niterations=100000\ncriterion=nn.NLLLoss()\nlearning_rate=0.005", 
            "cell_type": "code", 
            "metadata": {}, 
            "outputs": [], 
            "execution_count": 23
        }, 
        {
            "source": "#convert a prediction to the string label for gender \ndef output_to_gender (output):\n    \n    top_n, top_index = output.topk(1)\n    pred_i = top_index[0].item()\n    pred = genders[pred_i] \n    \n    return pred", 
            "cell_type": "code", 
            "metadata": {}, 
            "outputs": [], 
            "execution_count": 24
        }, 
        {
            "source": "import random", 
            "cell_type": "code", 
            "metadata": {}, 
            "outputs": [], 
            "execution_count": 25
        }, 
        {
            "source": "for iteration in range(1 , iterations +1):\n\n    i = random.randint(0, len(names_data) - 1)\n    \n    name = names_data.iloc[i][0]\n    name_in_tensor = name_to_tensor(name)\n    \n    gender = names_data.iloc[i][1]\n    gender_in_tensor = torch.LongTensor([gender])\n    \n    hidden = rnn.initHidden()\n    rnn.zero_grad()\n\n    for i in range(name_in_tensor.size()[0]):\n        output, hidden = rnn(name_in_tensor[i], hidden)\n\n    loss = criterion(output, gender_in_tensor)\n    loss.backward()\n    \n    for p in rnn.parameters():\n        p.data.add_(-learning_rate, p.grad.data)\n\n    if iteration% 5000 == 0:\n        \n        pred = output_to_gender(output)\n        \n        correct = '\u2713' if pred == genders[gender] else '\u2717 (%s)' % genders[gender]\n        print('iters- %d %d%% (%s) Name- %s Gender- %s %s' % \\\n              (iteration, iteration/iterations*100, loss.item(), name, pred, correct))", 
            "cell_type": "code", 
            "metadata": {}, 
            "outputs": [
                {
                    "output_type": "stream", 
                    "name": "stdout", 
                    "text": "iters- 5000 5% (0.8627834320068359) Name- Terri Gender- Female \u2717 (Male)\niters- 10000 10% (0.5916165113449097) Name- Perry Gender- Male \u2713\niters- 15000 15% (0.4957372844219208) Name- Danyell Gender- Female \u2713\niters- 20000 20% (0.11897659301757812) Name- Benoite Gender- Female \u2713\niters- 25000 25% (0.005750894546508789) Name- Madelina Gender- Female \u2713\niters- 30000 30% (0.03524589538574219) Name- Gusta Gender- Female \u2713\niters- 35000 35% (0.21323752403259277) Name- Marie Gender- Female \u2713\niters- 40000 40% (0.5342760682106018) Name- Chandal Gender- Female \u2713\niters- 45000 45% (0.0014083385467529297) Name- Natalya Gender- Female \u2713\niters- 50000 50% (1.1558303833007812) Name- Akiko Gender- Male \u2717 (Female)\niters- 55000 55% (1.1959596872329712) Name- Waly Gender- Male \u2717 (Female)\niters- 60000 60% (0.24575191736221313) Name- Candance Gender- Female \u2713\niters- 65000 65% (0.09537744522094727) Name- Rycca Gender- Female \u2713\niters- 70000 70% (0.7235228419303894) Name- Wrennie Gender- Male \u2717 (Female)\niters- 75000 75% (0.05263638496398926) Name- Ellene Gender- Female \u2713\niters- 80000 80% (0.00493621826171875) Name- Teena Gender- Female \u2713\niters- 85000 85% (0.5093424916267395) Name- Wilmette Gender- Female \u2713\niters- 90000 90% (0.12277257442474365) Name- Willdon Gender- Male \u2713\niters- 95000 95% (0.003304719924926758) Name- Deanna Gender- Female \u2713\niters- 100000 100% (0.20287948846817017) Name- Elliot Gender- Male \u2713\n"
                }
            ], 
            "execution_count": 26
        }, 
        {
            "source": "#perform a test using 10000 randomly selected names \nn_confusion = 10000\n\nprediction=[]\nactual = []\n\nfor _ in range(n_confusion):\n\n    i = random.randint(0, len(names_data) - 1)\n    \n    name = names_data.iloc[i][0]\n    name_in_tensor = name_to_tensor(name)\n    \n    gender_idx = names_data.iloc[i][1]\n    gender_in_tensor = torch.LongTensor([gender_idx])\n        \n    hidden = rnn.initHidden()\n\n    for j in range(name_in_tensor.size()[0]):\n        output, hidden = rnn(name_in_tensor[j], hidden)\n    \n    pred = output_to_gender(output)\n    \n    prediction.append(pred)\n    actual.append(genders[gender_idx])", 
            "cell_type": "code", 
            "metadata": {}, 
            "outputs": [], 
            "execution_count": 27
        }, 
        {
            "source": "!pip install pandas_ml", 
            "cell_type": "code", 
            "metadata": {}, 
            "outputs": [
                {
                    "output_type": "stream", 
                    "name": "stdout", 
                    "text": "Collecting pandas_ml\n\u001b[?25l  Downloading https://files.pythonhosted.org/packages/ae/72/6d90debfcb9ea74ec00927fa7ed0204dcc560b1f9ffcd8b239daa7fd106d/pandas_ml-0.6.1-py3-none-any.whl (100kB)\n\u001b[K    100% |################################| 102kB 3.1MB/s ta 0:00:01\n\u001b[?25hCollecting enum34 (from pandas_ml)\n  Downloading https://files.pythonhosted.org/packages/af/42/cb9355df32c69b553e72a2e28daee25d1611d2c0d9c272aa1d34204205b2/enum34-1.1.6-py3-none-any.whl\nCollecting pandas>=0.19.0 (from pandas_ml)\n\u001b[?25l  Downloading https://files.pythonhosted.org/packages/e2/a3/c42cd52e40527ba35aed53a988c485ffeddbae0722b8b756da82464baa73/pandas-0.24.1-cp35-cp35m-manylinux1_x86_64.whl (10.0MB)\n\u001b[K    100% |################################| 10.0MB 1.3MB/s eta 0:00:01\n\u001b[?25hCollecting python-dateutil>=2.5.0 (from pandas>=0.19.0->pandas_ml)\n\u001b[?25l  Downloading https://files.pythonhosted.org/packages/41/17/c62faccbfbd163c7f57f3844689e3a78bae1f403648a6afb1d0866d87fbb/python_dateutil-2.8.0-py2.py3-none-any.whl (226kB)\n\u001b[K    100% |################################| 235kB 3.5MB/s eta 0:00:01\n\u001b[?25hCollecting numpy>=1.12.0 (from pandas>=0.19.0->pandas_ml)\n  Using cached https://files.pythonhosted.org/packages/e3/18/4f013c3c3051f4e0ffbaa4bf247050d6d5e527fe9cb1907f5975b172f23f/numpy-1.16.2-cp35-cp35m-manylinux1_x86_64.whl\nCollecting pytz>=2011k (from pandas>=0.19.0->pandas_ml)\n\u001b[?25l  Downloading https://files.pythonhosted.org/packages/61/28/1d3920e4d1d50b19bc5d24398a7cd85cc7b9a75a490570d5a30c57622d34/pytz-2018.9-py2.py3-none-any.whl (510kB)\n\u001b[K    100% |################################| 512kB 2.9MB/s eta 0:00:01\n\u001b[?25hCollecting six>=1.5 (from python-dateutil>=2.5.0->pandas>=0.19.0->pandas_ml)\n  Using cached https://files.pythonhosted.org/packages/73/fb/00a976f728d0d1fecfe898238ce23f502a721c0ac0ecfedb80e0d88c64e9/six-1.12.0-py2.py3-none-any.whl\n\u001b[31mpyspark 2.3.0 requires py4j==0.10.6, which is not installed.\u001b[0m\n\u001b[31mtensorflow 1.3.0 requires tensorflow-tensorboard<0.2.0,>=0.1.0, which is not installed.\u001b[0m\nInstalling collected packages: enum34, six, python-dateutil, numpy, pytz, pandas, pandas-ml\nSuccessfully installed enum34-1.1.6 numpy-1.16.2 pandas-0.24.1 pandas-ml-0.6.1 python-dateutil-2.8.0 pytz-2018.9 six-1.12.0\n\u001b[33mTarget directory /home/spark/shared/user-libs/python3/six.py already exists. Specify --upgrade to force replacement.\u001b[0m\n\u001b[33mTarget directory /home/spark/shared/user-libs/python3/numpy already exists. Specify --upgrade to force replacement.\u001b[0m\n\u001b[33mTarget directory /home/spark/shared/user-libs/python3/__pycache__ already exists. Specify --upgrade to force replacement.\u001b[0m\n\u001b[33mTarget directory /home/spark/shared/user-libs/python3/six-1.12.0.dist-info already exists. Specify --upgrade to force replacement.\u001b[0m\n\u001b[33mTarget directory /home/spark/shared/user-libs/python3/numpy-1.16.2.dist-info already exists. Specify --upgrade to force replacement.\u001b[0m\n\u001b[33mTarget directory /home/spark/shared/user-libs/python3/bin already exists. Specify --upgrade to force replacement.\u001b[0m\n"
                }
            ], 
            "execution_count": 29
        }, 
        {
            "source": "from pandas_ml import ConfusionMatrix\nimport numpy as np ", 
            "cell_type": "code", 
            "metadata": {}, 
            "outputs": [], 
            "execution_count": 30
        }, 
        {
            "source": "np_prediction = np.array(prediction)\nnp_actual = np.array(actual)", 
            "cell_type": "code", 
            "metadata": {}, 
            "outputs": [], 
            "execution_count": 31
        }, 
        {
            "source": "cm = ConfusionMatrix(np.where(np_prediction == 'Female', True, False), \n                     np.where(np_actual == 'Female', True, False))\ncm", 
            "cell_type": "code", 
            "metadata": {}, 
            "outputs": [
                {
                    "output_type": "execute_result", 
                    "data": {
                        "text/plain": "Predicted  False  True  __all__\nActual                         \nFalse       2416   897     3313\nTrue         870  5817     6687\n__all__     3286  6714    10000"
                    }, 
                    "execution_count": 32, 
                    "metadata": {}
                }
            ], 
            "execution_count": 32
        }, 
        {
            "source": "import matplotlib.pyplot as plt\ncm.plot(normalized=True)\nplt.show()", 
            "cell_type": "code", 
            "metadata": {}, 
            "outputs": [
                {
                    "output_type": "display_data", 
                    "data": {
                        "image/png": "[encoded data removed]", 
                        "text/plain": "<matplotlib.figure.Figure at 0x2b87ed0c0be0>"
                    }, 
                    "metadata": {}
                }
            ], 
            "execution_count": 33
        }, 
        {
            "source": "", 
            "cell_type": "code", 
            "metadata": {}, 
            "outputs": [], 
            "execution_count": null
        }, 
        {
            "source": "", 
            "cell_type": "code", 
            "metadata": {}, 
            "outputs": [], 
            "execution_count": null
        }, 
        {
            "source": "", 
            "cell_type": "code", 
            "metadata": {}, 
            "outputs": [], 
            "execution_count": null
        }, 
        {
            "source": "", 
            "cell_type": "code", 
            "metadata": {}, 
            "outputs": [], 
            "execution_count": null
        }
    ], 
    "metadata": {
        "kernelspec": {
            "display_name": "Python 3.5 with Spark", 
            "name": "python3", 
            "language": "python3"
        }, 
        "language_info": {
            "mimetype": "text/x-python", 
            "nbconvert_exporter": "python", 
            "version": "3.5.4", 
            "name": "python", 
            "pygments_lexer": "ipython3", 
            "file_extension": ".py", 
            "codemirror_mode": {
                "version": 3, 
                "name": "ipython"
            }
        }
    }, 
    "nbformat": 4
}